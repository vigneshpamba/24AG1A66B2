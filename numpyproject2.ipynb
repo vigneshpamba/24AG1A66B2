{
  "nbformat": 4,
  "nbformat_minor": 0,
  "metadata": {
    "colab": {
      "provenance": [],
      "authorship_tag": "ABX9TyNwEQuiCHCG1XLGsvbsJOnl",
      "include_colab_link": true
    },
    "kernelspec": {
      "name": "python3",
      "display_name": "Python 3"
    },
    "language_info": {
      "name": "python"
    }
  },
  "cells": [
    {
      "cell_type": "markdown",
      "metadata": {
        "id": "view-in-github",
        "colab_type": "text"
      },
      "source": [
        "<a href=\"https://colab.research.google.com/github/vigneshpamba/24AG1A66B2/blob/main/numpyproject2.ipynb\" target=\"_parent\"><img src=\"https://colab.research.google.com/assets/colab-badge.svg\" alt=\"Open In Colab\"/></a>"
      ]
    },
    {
      "cell_type": "markdown",
      "source": [],
      "metadata": {
        "id": "34SPrHJY4rMy"
      }
    },
    {
      "cell_type": "markdown",
      "source": [
        "imput numpy in python"
      ],
      "metadata": {
        "id": "x7yrvX6C4suZ"
      }
    },
    {
      "cell_type": "code",
      "source": [
        "import numpy as np"
      ],
      "metadata": {
        "id": "6x8tF10340B2"
      },
      "execution_count": 1,
      "outputs": []
    },
    {
      "cell_type": "markdown",
      "source": [
        "import numpy ccreation"
      ],
      "metadata": {
        "id": "tWMl810o4-Qu"
      }
    },
    {
      "cell_type": "code",
      "source": [
        "list = [2,4,6,8,]\n",
        "array1 = np.array(list)\n",
        "print(array1)"
      ],
      "metadata": {
        "colab": {
          "base_uri": "https://localhost:8080/"
        },
        "id": "f8EO2Njz5A4H",
        "outputId": "e07bd496-1368-4997-a537-53c862dc0c1d"
      },
      "execution_count": 2,
      "outputs": [
        {
          "output_type": "stream",
          "name": "stdout",
          "text": [
            "[2 4 6 8]\n"
          ]
        }
      ]
    },
    {
      "cell_type": "code",
      "source": [
        "array2 = np.array([2,4,6,8])\n",
        "print(array2)"
      ],
      "metadata": {
        "colab": {
          "base_uri": "https://localhost:8080/"
        },
        "id": "2MEHtu-o6UmF",
        "outputId": "4b38e5d9-b419-4a74-e028-08ee7c909cc9"
      },
      "execution_count": 3,
      "outputs": [
        {
          "output_type": "stream",
          "name": "stdout",
          "text": [
            "[2 4 6 8]\n"
          ]
        }
      ]
    },
    {
      "cell_type": "markdown",
      "source": [
        "creating a 2d array\n"
      ],
      "metadata": {
        "id": "9ck5SmZI6kUn"
      }
    },
    {
      "cell_type": "code",
      "source": [
        "array3 = np.array([[1,2,3,4,5],\n",
        "                  [6,7,8,9,0]])\n",
        "print(array3)"
      ],
      "metadata": {
        "colab": {
          "base_uri": "https://localhost:8080/"
        },
        "id": "8UNjTVYN6m6d",
        "outputId": "953f52d0-32ad-4ef1-9814-140d490028d7"
      },
      "execution_count": 5,
      "outputs": [
        {
          "output_type": "stream",
          "name": "stdout",
          "text": [
            "[[1 2 3 4 5]\n",
            " [6 7 8 9 0]]\n"
          ]
        }
      ]
    },
    {
      "cell_type": "markdown",
      "source": [
        "printing 3d array"
      ],
      "metadata": {
        "id": "_v2dMa7M7moV"
      }
    },
    {
      "cell_type": "code",
      "source": [
        "array4 = np.array([[[1,2,3,4],\n",
        "                    [5,6,7,8],\n",
        "                  [ 0,1,2,3]],\n",
        "\n",
        "                   [[13,14,15,16],\n",
        "                    [17,18,19,20],\n",
        "                    [21,32,43,54]]])\n",
        "print(array4)\n",
        "print(array4.ndim)\n",
        "print(array4.size)\n",
        "print(array4.itemsize)"
      ],
      "metadata": {
        "colab": {
          "base_uri": "https://localhost:8080/"
        },
        "id": "jDxNpJ5j7qt6",
        "outputId": "68788e5c-c933-4bc7-f355-7f81d0f05ce9"
      },
      "execution_count": 15,
      "outputs": [
        {
          "output_type": "stream",
          "name": "stdout",
          "text": [
            "[[[ 1  2  3  4]\n",
            "  [ 5  6  7  8]\n",
            "  [ 0  1  2  3]]\n",
            "\n",
            " [[13 14 15 16]\n",
            "  [17 18 19 20]\n",
            "  [21 32 43 54]]]\n",
            "3\n",
            "24\n",
            "8\n"
          ]
        }
      ]
    },
    {
      "cell_type": "code",
      "source": [
        "array5 = np.array([1,2,3,4,5])\n",
        "print(array5.dtype)\n",
        "print(array4.size)"
      ],
      "metadata": {
        "colab": {
          "base_uri": "https://localhost:8080/"
        },
        "id": "pcmaYVdI8xDk",
        "outputId": "d2dd1c57-8919-4b6d-96a9-5c217a8a94a6"
      },
      "execution_count": null,
      "outputs": [
        {
          "output_type": "stream",
          "name": "stdout",
          "text": [
            "int64\n"
          ]
        }
      ]
    },
    {
      "cell_type": "markdown",
      "source": [
        "chek the datatype of given array\n"
      ],
      "metadata": {
        "id": "d8qOiaRw8t9f"
      }
    },
    {
      "cell_type": "code",
      "source": [
        "print(array5.ndim)"
      ],
      "metadata": {
        "colab": {
          "base_uri": "https://localhost:8080/"
        },
        "id": "PyPJ0LcG9I-0",
        "outputId": "5bda59fe-ceeb-4e8b-dfbe-24faf9f4fdc9"
      },
      "execution_count": 8,
      "outputs": [
        {
          "output_type": "stream",
          "name": "stdout",
          "text": [
            "1\n"
          ]
        }
      ]
    },
    {
      "cell_type": "markdown",
      "source": [
        ".ndim represents the dimensions of particualr array"
      ],
      "metadata": {
        "id": "4oEalX569drJ"
      }
    },
    {
      "cell_type": "markdown",
      "source": [
        "numpy shape attribute"
      ],
      "metadata": {
        "id": "1FEHKcpP-Vps"
      }
    },
    {
      "cell_type": "code",
      "source": [
        "array6 = np.array([[1,2,3,4],\n",
        "                  [6,7,8,9]])\n",
        "print(array6.shape)"
      ],
      "metadata": {
        "colab": {
          "base_uri": "https://localhost:8080/"
        },
        "id": "31xzI24b9jiQ",
        "outputId": "318bf19e-c917-4dca-e45d-c1a918c9fde1"
      },
      "execution_count": 17,
      "outputs": [
        {
          "output_type": "stream",
          "name": "stdout",
          "text": [
            "(2, 4)\n"
          ]
        }
      ]
    },
    {
      "cell_type": "code",
      "source": [
        "array7 = np.array([6,7,8,9,0])\n",
        "array8 = np.array([1,2,3,4,5])\n",
        "print(array7.itemsize)\n",
        "print(array8.itemsize)"
      ],
      "metadata": {
        "colab": {
          "base_uri": "https://localhost:8080/"
        },
        "id": "hwaSVaQj_BoJ",
        "outputId": "d030ef5e-28aa-40dd-b3ae-04a27b6d9ecd"
      },
      "execution_count": 14,
      "outputs": [
        {
          "output_type": "stream",
          "name": "stdout",
          "text": [
            "8\n",
            "8\n"
          ]
        }
      ]
    },
    {
      "cell_type": "markdown",
      "source": [
        "attributr"
      ],
      "metadata": {
        "id": "BbB0JZ_5AC3f"
      }
    },
    {
      "cell_type": "code",
      "source": [
        "array1 = np.array([1,2,3,4])\n",
        "array2 = np.array([[2,3,4,5],\n",
        "                   [2,3,45,5]])\n",
        "print(array1.data)\n",
        "print(array2.data)"
      ],
      "metadata": {
        "colab": {
          "base_uri": "https://localhost:8080/"
        },
        "id": "DaqHscGJAEUn",
        "outputId": "0c995362-3215-4132-b342-5296f7fecdeb"
      },
      "execution_count": 18,
      "outputs": [
        {
          "output_type": "stream",
          "name": "stdout",
          "text": [
            "<memory at 0x79d90963b400>\n",
            "<memory at 0x79d909ebbc60>\n"
          ]
        }
      ]
    }
  ]
}